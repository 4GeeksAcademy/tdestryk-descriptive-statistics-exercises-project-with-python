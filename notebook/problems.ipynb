{
    "cells": [
        {
            "cell_type": "markdown",
            "id": "ac622319",
            "metadata": {},
            "source": [
                "# Descriptive statistics problems"
            ]
        },
        {
            "cell_type": "markdown",
            "id": "5e0ab0d5",
            "metadata": {},
            "source": [
                "### Exercise 1\n",
                "\n",
                "We will use NumPy to obtain information to describe statistically.\n",
                "\n",
                "- Generate an array of 100 elements following a normal distribution.\n",
                "- Generate an array of 100 elements following a chi-square distribution with 3 degrees of freedom.\n",
                "- Calculate the main metrics and statistical measures that best describe the two vectors."
            ]
        },
        {
            "cell_type": "code",
            "execution_count": 31,
            "id": "34720ab6",
            "metadata": {},
            "outputs": [
                {
                    "name": "stdout",
                    "output_type": "stream",
                    "text": [
                        "The normal vector is: [-0.77162832  0.29662832  1.00514257 -0.25238004  0.34060002  1.43518155\n",
                        "  0.56440299  0.35555063 -1.68478539 -0.93372225  1.04692013  0.56995031\n",
                        "  0.72146627  0.63539693  1.28975653 -0.26139992  0.12049996 -1.02867433\n",
                        " -1.27802258 -1.64374072 -0.8851635   1.55256182 -1.55272707 -0.30353599\n",
                        " -1.29314532 -0.60097396  0.16969379 -0.70011587  1.08966487  1.53397812\n",
                        " -2.24909573 -0.68299233  0.05914212  1.12611703 -0.45424428 -0.0199354\n",
                        " -1.15674423 -1.53279585  1.44538469 -1.82406987  2.32861901  0.7251514\n",
                        "  0.67997308  0.57546867 -0.25268569  0.39208453 -0.18889669  0.55307328\n",
                        " -0.03368653 -0.95034818 -0.87057262 -0.98427238  0.97090073 -0.61744661\n",
                        " -1.91210316  0.39683867  1.51451756  0.77308319 -0.60332357 -1.58681172\n",
                        " -0.1342681  -0.15922388 -0.96919961  0.5510373   1.8466265   0.22228272\n",
                        "  0.16047621 -0.93722805  1.3974147  -0.07514417 -0.57896326  0.06368839\n",
                        "  0.47196133  0.13921541  1.2061534   0.38397155 -0.28394181  0.40119222\n",
                        "  0.4996371  -1.29637592  1.14941973 -0.30090402 -0.27532322  0.75137599\n",
                        "  0.74716522 -0.70083168  0.80290162 -0.56044815  1.81957305 -0.82819398\n",
                        "  0.23947746 -0.78201764  2.22269563 -1.23782094  0.52436275 -0.73491041\n",
                        " -0.35410764  0.45353783  1.22458444  1.62339656] \n",
                        "The chi-square distribution with 3 degrees of freedoms is: [ 0.33896893  2.9608523   3.08050157  2.32883471  0.40312997  0.16034843\n",
                        "  3.05018918  1.35919916  0.67171518  1.10936964  1.04772273  2.40636143\n",
                        "  5.34458161  2.57575435  0.60631414  4.17973713  9.57017269  2.54791512\n",
                        "  1.14987232  0.78082534  3.97422992  7.69786465  1.7313747   1.35955968\n",
                        "  2.49460337  4.45673033  1.06026389  2.85476696  3.59946024  3.83112292\n",
                        "  0.70054743  0.8907226   2.52679059  4.22158842 10.77546616  0.64323772\n",
                        "  2.91940701  2.32998546  1.50833008  5.86847608  3.78931951  3.88306314\n",
                        "  0.59294632  1.65079471  2.4442146   2.72136889 12.73551218  1.7431581\n",
                        "  0.02503088  2.47424071  3.61107148  2.4519156   3.02593517  3.70539683\n",
                        "  0.51468978  1.13941915  2.20057923  1.31523183  1.55343803  3.04958065\n",
                        "  1.22273612  0.34055298  4.9115395   0.72665065  1.91041102  1.4003508\n",
                        "  0.60768869  4.79261559  4.39753432  1.58555479  2.30066607  2.57645345\n",
                        "  0.65504127  0.77727607  2.26713358  0.58849654  2.24779922  0.05653893\n",
                        "  1.49808405  3.00445972  2.80990823  5.77320685  0.65301415  2.14764705\n",
                        "  4.94323656  2.98317059  4.52162851  0.59002405  2.4713858   1.87280587\n",
                        "  2.5333033   0.99363879  6.41394944  4.13297061  5.8346307   2.99846452\n",
                        "  1.11391048  3.90597279  6.46643396  2.99498313]\n"
                    ]
                }
            ],
            "source": [
                "# TODO\n",
                "import numpy as np\n",
                "import statistics\n",
                "\n",
                "normal = np.random.normal(size = 100)\n",
                "chi = np.random.chisquare(3, 100)\n",
                "\n",
                "print(f\"The normal vector is: {normal} \")\n",
                "print(f\"The chi-square distribution with 3 degrees of freedoms is: {chi}\")"
            ]
        },
        {
            "cell_type": "code",
            "execution_count": 38,
            "id": "9a891ce6",
            "metadata": {},
            "outputs": [
                {
                    "name": "stdout",
                    "output_type": "stream",
                    "text": [
                        "Mean\n",
                        "Normal mean: 0.03850953272380441\n",
                        "Chi mean: 2.6976566963080373\n",
                        "Median\n",
                        "Normal median: 0.0920941762204585\n",
                        "Chi median: 2.425288018488157\n",
                        "Mode\n",
                        "Normal mode: -0.7716283224168784\n",
                        "Chi mode: 0.33896892821271585\n",
                        "Range of Normal and Chi\n",
                        "Normal range = 4.577714736477505\n",
                        "Chi range = 12.710481296338834\n",
                        "Normal variance is 0.9960441881132358 and Normal STD is 0.9980201341221708\n",
                        "Chi variance is 4.862766244428309 and Chi STD is 2.2051680762309953\n",
                        "Skewness\n",
                        "Normal skewness is 0.003777001882640732\n",
                        "Chi skewness is 1.8937160963432436\n",
                        "Kurtosis\n",
                        "Normal kurtosis is -0.588163968042771\n",
                        "Chi kurtosis is 5.062121486808245\n"
                    ]
                }
            ],
            "source": [
                "from scipy.stats import skew\n",
                "from scipy.stats import kurtosis\n",
                "print(\"Mean\")\n",
                "print(f\"Normal mean: {stats.mean(normal)}\")\n",
                "print(f\"Chi mean: {stats.mean(chi)}\")\n",
                "\n",
                "print(\"Median\")\n",
                "print(f\"Normal median: {stats.median(normal)}\")\n",
                "print(f\"Chi median: {stats.median(chi)}\")\n",
                "\n",
                "print(\"Mode\")\n",
                "print(f\"Normal mode: {stats.mode(normal)}\")\n",
                "print(f\"Chi mode: {stats.mode(chi)}\")\n",
                "\n",
                "range_normal = max(normal) - min(normal)\n",
                "range_chi = max(chi) - min(chi)\n",
                "print(\"Range of Normal and Chi\")\n",
                "print(f\"Normal range = {range_normal}\")\n",
                "print(f\"Chi range = {range_chi}\")\n",
                "\n",
                "variance_normal = stats.variance(normal)\n",
                "std_normal = stats.stdev(normal)\n",
                "variance_chi = stats.variance(chi)\n",
                "std_chi = stats.stdev(chi)\n",
                "print(f\"Normal variance is {variance_normal} and Normal STD is {std_normal}\")\n",
                "print(f\"Chi variance is {variance_chi} and Chi STD is {std_chi}\")\n",
                "\n",
                "normal_skew = skew(normal)\n",
                "chi_skew = skew(chi)\n",
                "normal_k = kurtosis(normal)\n",
                "chi_k = kurtosis(chi)Asskdfgjaksjfjasdfddddd. cc\n",
                "print(\"Skewness\")\n",
                "print(f\"Normal skewness is {normal_skew}\")\n",
                "print(f\"Chi skewness is {chi_skew}\")\n",
                "print(\"Kurtosis\")\n",
                "print(f\"Normal kurtosis is {normal_k}\")\n",
                "print(f\"Chi kurtosis is {chi_k}\")"
            ]
        },
        {
            "cell_type": "markdown",
            "id": "5f02893e",
            "metadata": {},
            "source": [
                "From what I see the Chi square always has a much higher level than the normal distribution. It is more dynamic and has greater properties. "
            ]
        },
        {
            "cell_type": "markdown",
            "id": "46c70c3d",
            "metadata": {},
            "source": [
                "### Exercise 2\n",
                "\n",
                "Write a Python program to calculate the standard deviation of the following data:\n",
                "\n",
                "```py\n",
                "data = [4, 2, 5, 8, 6]\n",
                "```"
            ]
        },
        {
            "cell_type": "code",
            "execution_count": 39,
            "id": "d590308e",
            "metadata": {},
            "outputs": [
                {
                    "name": "stdout",
                    "output_type": "stream",
                    "text": [
                        "Sample Data: [4, 2, 5, 8, 6]\n",
                        "Standard Deviation: 2.23606797749979\n"
                    ]
                }
            ],
            "source": [
                "# TODO\n",
                "import math\n",
                "import sys\n",
                "\n",
                "def sd_calc(data):\n",
                "    n = len(data)\n",
                "\n",
                "    if (n <= 1):\n",
                "        return 0.0\n",
                "\n",
                "    mean, sd = avg_calc(data), 0.0\n",
                "\n",
                "    for d in data:\n",
                "        sd += (float(d) - mean) ** 2\n",
                "    sd = math.sqrt(sd / float(n - 1))\n",
                "\n",
                "    return sd\n",
                "\n",
                "def avg_calc(data):\n",
                "    n, mean = len(data), 0.0\n",
                "\n",
                "    if (n <= 1):\n",
                "        return data[0]\n",
                "\n",
                "    for d in data:\n",
                "        mean = mean + float(d)\n",
                "\n",
                "    mean = mean / float(n)\n",
                "    return mean\n",
                "\n",
                "\n",
                "data = [4, 2, 5, 8, 6]\n",
                "print(f\"Sample Data: {data}\")\n",
                "print(f\"Standard Deviation: {sd_calc(data)}\")"
            ]
        }
    ],
    "metadata": {
        "interpreter": {
            "hash": "9248718ffe6ce6938b217e69dbcc175ea21f4c6b28a317e96c05334edae734bb"
        },
        "kernelspec": {
            "display_name": "Python 3.9.12 ('ML-BOOTCAMP')",
            "language": "python",
            "name": "python3"
        },
        "language_info": {
            "codemirror_mode": {
                "name": "ipython",
                "version": 3
            },
            "file_extension": ".py",
            "mimetype": "text/x-python",
            "name": "python",
            "nbconvert_exporter": "python",
            "pygments_lexer": "ipython3",
            "version": "3.11.4"
        }
    },
    "nbformat": 4,
    "nbformat_minor": 5
}
